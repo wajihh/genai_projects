{
  "nbformat": 4,
  "nbformat_minor": 0,
  "metadata": {
    "colab": {
      "provenance": [],
      "gpuType": "T4",
      "authorship_tag": "ABX9TyNug9+yTTDc02TYneeJeizX",
      "include_colab_link": true
    },
    "kernelspec": {
      "name": "python3",
      "display_name": "Python 3"
    },
    "language_info": {
      "name": "python"
    },
    "accelerator": "GPU"
  },
  "cells": [
    {
      "cell_type": "markdown",
      "metadata": {
        "id": "view-in-github",
        "colab_type": "text"
      },
      "source": [
        "<a href=\"https://colab.research.google.com/github/wajihh/genai_projects/blob/main/ollama3_1b_reserach_assistant.ipynb\" target=\"_parent\"><img src=\"https://colab.research.google.com/assets/colab-badge.svg\" alt=\"Open In Colab\"/></a>"
      ]
    },
    {
      "cell_type": "markdown",
      "source": [
        "##Write a Reserach Paper or a Blog\n",
        "    Use the power of open source model llama3.1:8b on google co lab to write a reserach paper, an essay or blogs.\n",
        "##Acknowlement\n",
        "I am grateful to Fahad Mirza for sharing his knowlege and expertise here\n",
        "https://www.youtube.com/watch?v=rV0yqqQeeLw&t=162s"
      ],
      "metadata": {
        "id": "3EIRNs3XAxtj"
      }
    },
    {
      "cell_type": "code",
      "source": [
        "!sudo apt-get install -y pciutils\n",
        "!curl -fsSL https://ollama.com/install.sh | sh # download ollama api\n",
        "from IPython.display import clear_output\n"
      ],
      "metadata": {
        "colab": {
          "base_uri": "https://localhost:8080/"
        },
        "collapsed": true,
        "id": "TA7hZv_y8Yyg",
        "outputId": "7dd2cff2-16ab-4393-f508-7b1e919c50e9"
      },
      "execution_count": 1,
      "outputs": [
        {
          "output_type": "stream",
          "name": "stdout",
          "text": [
            "Reading package lists... Done\n",
            "Building dependency tree... Done\n",
            "Reading state information... Done\n",
            "The following additional packages will be installed:\n",
            "  libpci3 pci.ids\n",
            "The following NEW packages will be installed:\n",
            "  libpci3 pci.ids pciutils\n",
            "0 upgraded, 3 newly installed, 0 to remove and 49 not upgraded.\n",
            "Need to get 343 kB of archives.\n",
            "After this operation, 1,581 kB of additional disk space will be used.\n",
            "Get:1 http://archive.ubuntu.com/ubuntu jammy/main amd64 pci.ids all 0.0~2022.01.22-1 [251 kB]\n",
            "Get:2 http://archive.ubuntu.com/ubuntu jammy/main amd64 libpci3 amd64 1:3.7.0-6 [28.9 kB]\n",
            "Get:3 http://archive.ubuntu.com/ubuntu jammy/main amd64 pciutils amd64 1:3.7.0-6 [63.6 kB]\n",
            "Fetched 343 kB in 1s (271 kB/s)\n",
            "debconf: unable to initialize frontend: Dialog\n",
            "debconf: (No usable dialog-like program is installed, so the dialog based frontend cannot be used. at /usr/share/perl5/Debconf/FrontEnd/Dialog.pm line 78, <> line 3.)\n",
            "debconf: falling back to frontend: Readline\n",
            "debconf: unable to initialize frontend: Readline\n",
            "debconf: (This frontend requires a controlling tty.)\n",
            "debconf: falling back to frontend: Teletype\n",
            "dpkg-preconfigure: unable to re-open stdin: \n",
            "Selecting previously unselected package pci.ids.\n",
            "(Reading database ... 123620 files and directories currently installed.)\n",
            "Preparing to unpack .../pci.ids_0.0~2022.01.22-1_all.deb ...\n",
            "Unpacking pci.ids (0.0~2022.01.22-1) ...\n",
            "Selecting previously unselected package libpci3:amd64.\n",
            "Preparing to unpack .../libpci3_1%3a3.7.0-6_amd64.deb ...\n",
            "Unpacking libpci3:amd64 (1:3.7.0-6) ...\n",
            "Selecting previously unselected package pciutils.\n",
            "Preparing to unpack .../pciutils_1%3a3.7.0-6_amd64.deb ...\n",
            "Unpacking pciutils (1:3.7.0-6) ...\n",
            "Setting up pci.ids (0.0~2022.01.22-1) ...\n",
            "Setting up libpci3:amd64 (1:3.7.0-6) ...\n",
            "Setting up pciutils (1:3.7.0-6) ...\n",
            "Processing triggers for man-db (2.10.2-1) ...\n",
            "Processing triggers for libc-bin (2.35-0ubuntu3.4) ...\n",
            "/sbin/ldconfig.real: /usr/local/lib/libur_adapter_opencl.so.0 is not a symbolic link\n",
            "\n",
            "/sbin/ldconfig.real: /usr/local/lib/libur_loader.so.0 is not a symbolic link\n",
            "\n",
            "/sbin/ldconfig.real: /usr/local/lib/libtbbbind_2_5.so.3 is not a symbolic link\n",
            "\n",
            "/sbin/ldconfig.real: /usr/local/lib/libtbb.so.12 is not a symbolic link\n",
            "\n",
            "/sbin/ldconfig.real: /usr/local/lib/libtbbbind.so.3 is not a symbolic link\n",
            "\n",
            "/sbin/ldconfig.real: /usr/local/lib/libtbbbind_2_0.so.3 is not a symbolic link\n",
            "\n",
            "/sbin/ldconfig.real: /usr/local/lib/libtbbmalloc.so.2 is not a symbolic link\n",
            "\n",
            "/sbin/ldconfig.real: /usr/local/lib/libur_adapter_level_zero.so.0 is not a symbolic link\n",
            "\n",
            "/sbin/ldconfig.real: /usr/local/lib/libtbbmalloc_proxy.so.2 is not a symbolic link\n",
            "\n",
            ">>> Installing ollama to /usr/local\n",
            ">>> Downloading Linux amd64 bundle\n",
            "############################################################################################# 100.0%\n",
            ">>> Creating ollama user...\n",
            ">>> Adding ollama user to video group...\n",
            ">>> Adding current user to ollama group...\n",
            ">>> Creating ollama systemd service...\n",
            ">>> NVIDIA GPU installed.\n",
            ">>> The Ollama API is now available at 127.0.0.1:11434.\n",
            ">>> Install complete. Run \"ollama\" from the command line.\n"
          ]
        }
      ]
    },
    {
      "cell_type": "markdown",
      "source": [
        "#Creating Ollama API Server"
      ],
      "metadata": {
        "id": "j72qabzKCSY3"
      }
    },
    {
      "cell_type": "code",
      "source": [
        "# Create a Python script to start the Ollama API server in a separate thread\n",
        "\n",
        "import os\n",
        "import threading\n",
        "import subprocess\n",
        "import requests\n",
        "import json\n",
        "\n",
        "def ollama():\n",
        "    os.environ['OLLAMA_HOST'] = '0.0.0.0:11434'\n",
        "    os.environ['OLLAMA_ORIGINS'] = '*'\n",
        "    subprocess.Popen([\"ollama\", \"serve\"])\n",
        "\n",
        "ollama_thread = threading.Thread(target=ollama)\n",
        "ollama_thread.start()\n",
        "\n",
        "from IPython.display import clear_output\n",
        "!ollama pull llama3.1:8b\n",
        "clear_output()"
      ],
      "metadata": {
        "id": "CREdeeSN8cOU"
      },
      "execution_count": 6,
      "outputs": []
    },
    {
      "cell_type": "markdown",
      "source": [
        "#Installing Ollama"
      ],
      "metadata": {
        "id": "5i-RaCMqCMno"
      }
    },
    {
      "cell_type": "code",
      "source": [
        "!pip install -U lightrag[ollama]\n",
        "\n",
        "from lightrag.core.generator import Generator\n",
        "from lightrag.core.component import Component\n",
        "from lightrag.core.model_client import ModelClient\n",
        "from lightrag.components.model_client import OllamaClient, GroqAPIClient\n",
        "\n",
        "import time"
      ],
      "metadata": {
        "colab": {
          "base_uri": "https://localhost:8080/"
        },
        "collapsed": true,
        "id": "TourS9Qw8zQU",
        "outputId": "25684418-3864-4443-bfa4-d1ac5cdf76b0"
      },
      "execution_count": 7,
      "outputs": [
        {
          "output_type": "stream",
          "name": "stdout",
          "text": [
            "Requirement already satisfied: lightrag[ollama] in /usr/local/lib/python3.10/dist-packages (0.1.0b6)\n",
            "Requirement already satisfied: backoff<3.0.0,>=2.2.1 in /usr/local/lib/python3.10/dist-packages (from lightrag[ollama]) (2.2.1)\n",
            "Requirement already satisfied: jinja2<4.0.0,>=3.1.3 in /usr/local/lib/python3.10/dist-packages (from lightrag[ollama]) (3.1.4)\n",
            "Requirement already satisfied: jsonlines<5.0.0,>=4.0.0 in /usr/local/lib/python3.10/dist-packages (from lightrag[ollama]) (4.0.0)\n",
            "Requirement already satisfied: nest-asyncio<2.0.0,>=1.6.0 in /usr/local/lib/python3.10/dist-packages (from lightrag[ollama]) (1.6.0)\n",
            "Requirement already satisfied: numpy<2.0.0,>=1.26.4 in /usr/local/lib/python3.10/dist-packages (from lightrag[ollama]) (1.26.4)\n",
            "Requirement already satisfied: python-dotenv<2.0.0,>=1.0.1 in /usr/local/lib/python3.10/dist-packages (from lightrag[ollama]) (1.0.1)\n",
            "Requirement already satisfied: pyyaml<7.0.0,>=6.0.1 in /usr/local/lib/python3.10/dist-packages (from lightrag[ollama]) (6.0.2)\n",
            "Requirement already satisfied: tiktoken<0.8.0,>=0.7.0 in /usr/local/lib/python3.10/dist-packages (from lightrag[ollama]) (0.7.0)\n",
            "Requirement already satisfied: tqdm<5.0.0,>=4.66.4 in /usr/local/lib/python3.10/dist-packages (from lightrag[ollama]) (4.66.5)\n",
            "Requirement already satisfied: ollama<0.3.0,>=0.2.1 in /usr/local/lib/python3.10/dist-packages (from lightrag[ollama]) (0.2.1)\n",
            "Requirement already satisfied: MarkupSafe>=2.0 in /usr/local/lib/python3.10/dist-packages (from jinja2<4.0.0,>=3.1.3->lightrag[ollama]) (2.1.5)\n",
            "Requirement already satisfied: attrs>=19.2.0 in /usr/local/lib/python3.10/dist-packages (from jsonlines<5.0.0,>=4.0.0->lightrag[ollama]) (24.2.0)\n",
            "Requirement already satisfied: httpx<0.28.0,>=0.27.0 in /usr/local/lib/python3.10/dist-packages (from ollama<0.3.0,>=0.2.1->lightrag[ollama]) (0.27.2)\n",
            "Requirement already satisfied: regex>=2022.1.18 in /usr/local/lib/python3.10/dist-packages (from tiktoken<0.8.0,>=0.7.0->lightrag[ollama]) (2024.9.11)\n",
            "Requirement already satisfied: requests>=2.26.0 in /usr/local/lib/python3.10/dist-packages (from tiktoken<0.8.0,>=0.7.0->lightrag[ollama]) (2.32.3)\n",
            "Requirement already satisfied: anyio in /usr/local/lib/python3.10/dist-packages (from httpx<0.28.0,>=0.27.0->ollama<0.3.0,>=0.2.1->lightrag[ollama]) (3.7.1)\n",
            "Requirement already satisfied: certifi in /usr/local/lib/python3.10/dist-packages (from httpx<0.28.0,>=0.27.0->ollama<0.3.0,>=0.2.1->lightrag[ollama]) (2024.8.30)\n",
            "Requirement already satisfied: httpcore==1.* in /usr/local/lib/python3.10/dist-packages (from httpx<0.28.0,>=0.27.0->ollama<0.3.0,>=0.2.1->lightrag[ollama]) (1.0.6)\n",
            "Requirement already satisfied: idna in /usr/local/lib/python3.10/dist-packages (from httpx<0.28.0,>=0.27.0->ollama<0.3.0,>=0.2.1->lightrag[ollama]) (3.10)\n",
            "Requirement already satisfied: sniffio in /usr/local/lib/python3.10/dist-packages (from httpx<0.28.0,>=0.27.0->ollama<0.3.0,>=0.2.1->lightrag[ollama]) (1.3.1)\n",
            "Requirement already satisfied: h11<0.15,>=0.13 in /usr/local/lib/python3.10/dist-packages (from httpcore==1.*->httpx<0.28.0,>=0.27.0->ollama<0.3.0,>=0.2.1->lightrag[ollama]) (0.14.0)\n",
            "Requirement already satisfied: charset-normalizer<4,>=2 in /usr/local/lib/python3.10/dist-packages (from requests>=2.26.0->tiktoken<0.8.0,>=0.7.0->lightrag[ollama]) (3.3.2)\n",
            "Requirement already satisfied: urllib3<3,>=1.21.1 in /usr/local/lib/python3.10/dist-packages (from requests>=2.26.0->tiktoken<0.8.0,>=0.7.0->lightrag[ollama]) (2.2.3)\n",
            "Requirement already satisfied: exceptiongroup in /usr/local/lib/python3.10/dist-packages (from anyio->httpx<0.28.0,>=0.27.0->ollama<0.3.0,>=0.2.1->lightrag[ollama]) (1.2.2)\n"
          ]
        }
      ]
    },
    {
      "cell_type": "markdown",
      "source": [
        "#Mount Google Drive"
      ],
      "metadata": {
        "id": "46bQwqX49Mpr"
      }
    },
    {
      "cell_type": "code",
      "source": [
        "\n",
        "# Mount Google Drive to save the file\n",
        "drive.mount('/content/drive')\n"
      ],
      "metadata": {
        "id": "ck3jhDsiEAbA"
      },
      "execution_count": null,
      "outputs": []
    },
    {
      "cell_type": "markdown",
      "source": [
        "#Template to provide a textual input"
      ],
      "metadata": {
        "id": "flJJ9L_WEJhN"
      }
    },
    {
      "cell_type": "code",
      "source": [
        "qa_template = r\"\"\"<SYS>\n",
        "You are a helpful assistant.\n",
        "</SYS>\n",
        "User: {{input_str}}\n",
        "You:\"\"\"\n",
        "\n",
        "class SimpleQA(Component):\n",
        "    def __init__(self, model_client: ModelClient, model_kwargs: dict):\n",
        "        super().__init__()\n",
        "        self.generator = Generator(\n",
        "            model_client=model_client,\n",
        "            model_kwargs=model_kwargs,\n",
        "            template=qa_template,\n",
        "        )\n",
        "\n",
        "    def call(self, input: dict) -> str:\n",
        "        return self.generator.call({\"input_str\": str(input)})\n",
        "\n",
        "    async def acall(self, input: dict) -> str:\n",
        "        return await self.generator.acall({\"input_str\": str(input)})"
      ],
      "metadata": {
        "id": "e-yp4Asc8-8b"
      },
      "execution_count": 8,
      "outputs": []
    },
    {
      "cell_type": "markdown",
      "source": [
        "#Getting and Saving the response on google drive"
      ],
      "metadata": {
        "id": "zWh2OIqC9WWz"
      }
    },
    {
      "cell_type": "code",
      "source": [
        "# Required imports\n",
        "from lightrag.components.model_client import OllamaClient\n",
        "from IPython.display import Markdown, display\n",
        "from google.colab import drive\n",
        "\n",
        "# Define the model\n",
        "model = {\n",
        "    \"model_client\": OllamaClient(),\n",
        "    \"model_kwargs\": {\"model\": \"llama3.1:8b\"}\n",
        "}\n",
        "\n",
        "# Initialize the SimpleQA object\n",
        "qa = SimpleQA(**model)\n",
        "\n",
        "# Generate the essay\n",
        "output = qa(\"Write a research paper of 1000 words on food security issues faced in Pakistan\")\n",
        "\n",
        "# Split the output into paragraphs (assuming it's a text-based answer)\n",
        "essay_text = output.data\n",
        "heading = \"Food Security\"  # You can extract this dynamically if the model provides a heading\n",
        "subheading = \"Understanding the Crisis\"\n",
        "\n",
        "# Format the output in markdown\n",
        "markdown_content = f\"\"\"\n",
        "<center><h1>{heading}</h1></center>\n",
        "\n",
        "### {subheading}\n",
        "\n",
        "{essay_text}\n",
        "\"\"\"\n",
        "\n",
        "# Display the markdown in Colab\n",
        "display(Markdown(markdown_content))\n",
        "\n",
        "# Save the markdown content to a file in Google Drive\n",
        "file_path = f\"/content/drive/My Drive/{heading.replace(' ', '_')}.md\"\n",
        "with open(file_path, 'w') as file:\n",
        "    file.write(markdown_content)\n",
        "\n",
        "print(f\"Markdown file saved as {file_path}\")\n"
      ],
      "metadata": {
        "colab": {
          "base_uri": "https://localhost:8080/",
          "height": 1000
        },
        "id": "aUMxqlks_u05",
        "outputId": "fca4c087-4301-4d82-a771-d22bb6947958"
      },
      "execution_count": 14,
      "outputs": [
        {
          "output_type": "display_data",
          "data": {
            "text/plain": [
              "<IPython.core.display.Markdown object>"
            ],
            "text/markdown": "\n<center><h1>Food Security</h1></center>\n\n### Understanding the Crisis\n\n**Title:** Food Security Issues in Pakistan: Challenges and Opportunities for Sustainable Solutions\n\n**Abstract**\n\nPakistan, with a population of over 216 million, faces significant challenges in ensuring food security. The country's agricultural sector is the backbone of its economy, accounting for around 18% of the GDP and providing employment to approximately 42% of the workforce. However, Pakistan has struggled with food insecurity due to a combination of factors including climate change, water scarcity, soil degradation, inadequate irrigation systems, low productivity in major crops like wheat and rice, inefficient agricultural practices, poverty, and poor distribution networks. This research paper examines the key issues related to food security in Pakistan, their causes, effects, and potential solutions, highlighting the need for a comprehensive approach that includes policy reforms, technological advancements, and community engagement.\n\n**Introduction**\n\nFood security is a critical concern globally, with many countries facing challenges in ensuring access to sufficient, safe, and nutritious food for all citizens. In Pakistan, despite significant agricultural potential, the country's food security situation has been precarious. The agriculture sector is crucial for the national economy and livelihoods of millions of people, but it faces numerous challenges that affect food availability, accessibility, utilization, and stability.\n\n**Background**\n\nPakistan's agricultural sector contributes significantly to its economy and is the primary source of income for many rural households. However, various factors have contributed to the vulnerability of Pakistan's food security:\n\n1. **Climate Change:** Climate change impacts agricultural productivity through changes in temperature, precipitation patterns, and increased frequency of extreme weather events. This variability threatens crop yields and quality.\n\n2. **Water Scarcity:** Adequate water supply is essential for irrigation, drinking, and sanitation. However, water scarcity affects agriculture by reducing land available for crops and impacting the overall yield due to low-quality irrigation systems.\n\n3. **Soil Degradation:** Poor agricultural practices such as intensive farming without crop rotation or fertilizers have led to soil degradation. This reduces fertility and increases erosion, further threatening food security.\n\n4. **Low Crop Productivity:** Despite being among the top wheat and rice producers globally, Pakistan's productivity in these staple crops is relatively low compared to other countries, contributing to insecurity.\n\n5. **Poverty:** A significant portion of the population lives below the poverty line, limiting their purchasing power and access to food. This exacerbates the issue of hunger and malnutrition within the country.\n\n6. **Poor Distribution Networks:** Inefficient supply chains contribute to food losses during transportation from farms to markets, further straining an already precarious situation.\n\n**The Impact on Food Security**\n\nThese challenges have significant implications for Pakistan's food security:\n\n1. **Food Shortages:** The country experiences regular shortages of wheat and rice, staples that are critical for the majority of the population. These shortages lead to price hikes, affecting vulnerable segments of society disproportionately.\n\n2. **Malnutrition:** High levels of malnutrition exist among children and pregnant women due to inadequate access to nutritious food. This not only affects health but also hinders economic growth by reducing productivity.\n\n3. **Food Waste:** Despite availability issues, significant amounts of produce are wasted during transportation and storage due to inefficient supply chain management. This reflects a broader issue in the country's agricultural sector.\n\n**Solutions for Sustainable Food Security**\n\nTo address these challenges effectively, several strategies should be implemented:\n\n1. **Climate-Smart Agriculture (CSA):** Implementing CSA practices can help farmers adapt to climate change by using techniques such as conservation agriculture and agroforestry to reduce vulnerability to weather extremes.\n\n2. **Irrigation System Reforms:** Improving irrigation infrastructure and adopting drip irrigation systems can conserve water, increase efficiency in water use, and enhance crop yields.\n\n3. **Soil Conservation:** Promoting practices like crop rotation, intercropping, and organic farming can improve soil health, increase its fertility, and reduce erosion.\n\n4. **Increased Crop Productivity:** Investing in research and development to introduce high-yielding varieties of staple crops, such as wheat and rice, could significantly boost agricultural productivity.\n\n5. **Social Protection Programs:** Implementing targeted programs to support the most vulnerable populations can improve access to food by enhancing their purchasing power through cash transfers or direct food assistance.\n\n6. **Strengthened Agricultural Policies:** Review and revise national policies to prioritize sustainable agriculture practices, ensure equitable distribution of resources, and provide incentives for using environmentally friendly farming methods.\n\n7. **Community Engagement:** Encourage community-based initiatives for conserving water, improving soil quality, reducing food waste during transportation, and promoting locally sourced produce. This can enhance the resilience of agricultural systems to external shocks.\n\n**Conclusion**\n\nFood security in Pakistan is a pressing issue that requires immediate attention. The challenges faced are complex and multifaceted but are not insurmountable. By adopting sustainable agricultural practices, investing in research and development, reforming irrigation systems, implementing social protection programs, and strengthening policies for sustainable agriculture, the country can move towards ensuring food security for its citizens.\n\n**Recommendations**\n\n1. **Prioritize Climate Change Mitigation and Adaptation:** Integrate climate change considerations into national agricultural policies to mitigate its impacts on agriculture.\n\n2. **Upgrade Irrigation Infrastructure:** Invest in modern irrigation systems that are water-efficient and suitable for the country's diverse climatic conditions.\n\n3. **Promote Sustainable Agriculture Practices:** Encourage farmers to adopt sustainable practices like agroforestry, conservation agriculture, and organic farming.\n\n4. **Develop High-Yielding Varieties of Staple Crops:** Invest in research to develop high-yielding varieties of wheat, rice, and other staple crops that are disease-resistant and can withstand adverse weather conditions.\n\n5. **Strengthen Social Protection Programs:** Implement or strengthen social protection programs to support vulnerable populations during food shortages and times of economic stress.\n\n**References**\n\n- FAO (2022). The State of Food Security and Nutrition in the World.\n- World Bank (2020). Pakistan’s Agriculture Sector: An Assessment.\n- UNDP (2019). Sustainability in Pakistan: A Framework for Development.\n"
          },
          "metadata": {}
        },
        {
          "output_type": "stream",
          "name": "stdout",
          "text": [
            "Markdown file saved as /content/drive/My Drive/Food_Security.md\n"
          ]
        }
      ]
    },
    {
      "cell_type": "markdown",
      "source": [],
      "metadata": {
        "id": "awGGHYVgAeXu"
      }
    },
    {
      "cell_type": "markdown",
      "source": [],
      "metadata": {
        "id": "HV20xFrwAv8a"
      }
    },
    {
      "cell_type": "markdown",
      "source": [],
      "metadata": {
        "id": "_Mn0sXZJ_uma"
      }
    }
  ]
}