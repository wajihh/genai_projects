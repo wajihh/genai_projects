{
  "nbformat": 4,
  "nbformat_minor": 0,
  "metadata": {
    "colab": {
      "provenance": [],
      "authorship_tag": "ABX9TyMzfcyWLVtfOCwDr5xMT2kf",
      "include_colab_link": true
    },
    "kernelspec": {
      "name": "python3",
      "display_name": "Python 3"
    },
    "language_info": {
      "name": "python"
    }
  },
  "cells": [
    {
      "cell_type": "markdown",
      "metadata": {
        "id": "view-in-github",
        "colab_type": "text"
      },
      "source": [
        "<a href=\"https://colab.research.google.com/github/wajihh/genai_projects/blob/main/rag_bot_pdf_qdrant.ipynb\" target=\"_parent\"><img src=\"https://colab.research.google.com/assets/colab-badge.svg\" alt=\"Open In Colab\"/></a>"
      ]
    },
    {
      "cell_type": "markdown",
      "source": [
        "# A QUESTION ANSWER BOT IMPLEMENATION USING RAG FOR PDF DOCUMENT\n",
        "\n",
        "RAG implementation with questioning bot, that works on Google Colab, loads the .env file for API keys, uploads a PDF from a Google Drive folder, stores Qdrant embeddings on Google Drive, and includes a simple bot interaction for querying.\n",
        "#How the Code Works:\n",
        "Google Drive Integration:\n",
        "\n",
        "The code mounts your Google Drive to access and store files like the .env file, PDF, and embeddings.\n",
        "\n",
        "#Loading the API Key:\n",
        "\n",
        "The API key is loaded from a .env file stored in Google Drive to keep it secure.\n",
        "#PDF Chunking:\n",
        "\n",
        "The PDF is split into manageable chunks of text to stay within OpenAI’s token limits during embedding and querying.\n",
        "Embedding Generation:\n",
        "\n",
        "The embeddings for each chunk are generated using the text-embedding-ada-002 model, and stored in both Qdrant (for retrieval) and Google Drive (for persistence).\n",
        "#Bot Interaction:\n",
        "\n",
        "The bot interaction at the end allows users to ask questions based on the document’s content. The bot retrieves the most relevant chunks and generates an answer using GPT-4.\n",
        "Storage Paths:\n",
        "PDF File: /content/drive/MyDrive/your_folder/your_pdf_file.pdf\n",
        "Embeddings File: /content/drive/MyDrive/your_folder/pdf_embeddings.npy\n",
        "Qdrant Database: /content/drive/MyDrive/your_folder/qdrant.db\n",
        "This setup allows you to handle large PDFs, efficiently retrieve content, and interact with a bot that answers queries based on the document!\n"
      ],
      "metadata": {
        "id": "zKP8UixIa95s"
      }
    },
    {
      "cell_type": "markdown",
      "source": [
        "##Setup:\n",
        "-Load .env file: We'll use python-dotenv to securely load the API key from Google Drive.\n",
        "\n",
        "-Google Drive integration: We'll mount Google Drive to access and store the PDF and embeddings.\n",
        "\n",
        "-Qdrant storage: The embeddings will be stored in Google Drive for persistence.\n",
        "\n",
        "-Bot interaction: A simple chatbot will take user questions and retrieve relevant chunks from the PDF."
      ],
      "metadata": {
        "id": "eiPw5y4sutR2"
      }
    },
    {
      "cell_type": "markdown",
      "source": [
        "Step 1: Install necessary libraries"
      ],
      "metadata": {
        "id": "Io7eXQLObLCl"
      }
    },
    {
      "cell_type": "code",
      "execution_count": 2,
      "metadata": {
        "colab": {
          "base_uri": "https://localhost:8080/"
        },
        "collapsed": true,
        "id": "mHtKiTQ5al5x",
        "outputId": "459499f7-25f3-40db-b616-7a153b9e0299"
      },
      "outputs": [
        {
          "output_type": "stream",
          "name": "stdout",
          "text": [
            "Requirement already satisfied: openai==0.28 in /usr/local/lib/python3.10/dist-packages (0.28.0)\n",
            "Requirement already satisfied: PyPDF2 in /usr/local/lib/python3.10/dist-packages (3.0.1)\n",
            "Requirement already satisfied: qdrant-client in /usr/local/lib/python3.10/dist-packages (1.12.0)\n",
            "Requirement already satisfied: python-dotenv in /usr/local/lib/python3.10/dist-packages (1.0.1)\n",
            "Requirement already satisfied: requests>=2.20 in /usr/local/lib/python3.10/dist-packages (from openai==0.28) (2.32.3)\n",
            "Requirement already satisfied: tqdm in /usr/local/lib/python3.10/dist-packages (from openai==0.28) (4.66.5)\n",
            "Requirement already satisfied: aiohttp in /usr/local/lib/python3.10/dist-packages (from openai==0.28) (3.10.10)\n",
            "Requirement already satisfied: grpcio>=1.41.0 in /usr/local/lib/python3.10/dist-packages (from qdrant-client) (1.67.0)\n",
            "Requirement already satisfied: grpcio-tools>=1.41.0 in /usr/local/lib/python3.10/dist-packages (from qdrant-client) (1.67.0)\n",
            "Requirement already satisfied: httpx>=0.20.0 in /usr/local/lib/python3.10/dist-packages (from httpx[http2]>=0.20.0->qdrant-client) (0.27.2)\n",
            "Requirement already satisfied: numpy>=1.21 in /usr/local/lib/python3.10/dist-packages (from qdrant-client) (1.26.4)\n",
            "Requirement already satisfied: portalocker<3.0.0,>=2.7.0 in /usr/local/lib/python3.10/dist-packages (from qdrant-client) (2.10.1)\n",
            "Requirement already satisfied: pydantic>=1.10.8 in /usr/local/lib/python3.10/dist-packages (from qdrant-client) (2.9.2)\n",
            "Requirement already satisfied: urllib3<3,>=1.26.14 in /usr/local/lib/python3.10/dist-packages (from qdrant-client) (2.2.3)\n",
            "Requirement already satisfied: protobuf<6.0dev,>=5.26.1 in /usr/local/lib/python3.10/dist-packages (from grpcio-tools>=1.41.0->qdrant-client) (5.28.2)\n",
            "Requirement already satisfied: setuptools in /usr/local/lib/python3.10/dist-packages (from grpcio-tools>=1.41.0->qdrant-client) (71.0.4)\n",
            "Requirement already satisfied: anyio in /usr/local/lib/python3.10/dist-packages (from httpx>=0.20.0->httpx[http2]>=0.20.0->qdrant-client) (3.7.1)\n",
            "Requirement already satisfied: certifi in /usr/local/lib/python3.10/dist-packages (from httpx>=0.20.0->httpx[http2]>=0.20.0->qdrant-client) (2024.8.30)\n",
            "Requirement already satisfied: httpcore==1.* in /usr/local/lib/python3.10/dist-packages (from httpx>=0.20.0->httpx[http2]>=0.20.0->qdrant-client) (1.0.6)\n",
            "Requirement already satisfied: idna in /usr/local/lib/python3.10/dist-packages (from httpx>=0.20.0->httpx[http2]>=0.20.0->qdrant-client) (3.10)\n",
            "Requirement already satisfied: sniffio in /usr/local/lib/python3.10/dist-packages (from httpx>=0.20.0->httpx[http2]>=0.20.0->qdrant-client) (1.3.1)\n",
            "Requirement already satisfied: h11<0.15,>=0.13 in /usr/local/lib/python3.10/dist-packages (from httpcore==1.*->httpx>=0.20.0->httpx[http2]>=0.20.0->qdrant-client) (0.14.0)\n",
            "Requirement already satisfied: h2<5,>=3 in /usr/local/lib/python3.10/dist-packages (from httpx[http2]>=0.20.0->qdrant-client) (4.1.0)\n",
            "Requirement already satisfied: annotated-types>=0.6.0 in /usr/local/lib/python3.10/dist-packages (from pydantic>=1.10.8->qdrant-client) (0.7.0)\n",
            "Requirement already satisfied: pydantic-core==2.23.4 in /usr/local/lib/python3.10/dist-packages (from pydantic>=1.10.8->qdrant-client) (2.23.4)\n",
            "Requirement already satisfied: typing-extensions>=4.6.1 in /usr/local/lib/python3.10/dist-packages (from pydantic>=1.10.8->qdrant-client) (4.12.2)\n",
            "Requirement already satisfied: charset-normalizer<4,>=2 in /usr/local/lib/python3.10/dist-packages (from requests>=2.20->openai==0.28) (3.4.0)\n",
            "Requirement already satisfied: aiohappyeyeballs>=2.3.0 in /usr/local/lib/python3.10/dist-packages (from aiohttp->openai==0.28) (2.4.3)\n",
            "Requirement already satisfied: aiosignal>=1.1.2 in /usr/local/lib/python3.10/dist-packages (from aiohttp->openai==0.28) (1.3.1)\n",
            "Requirement already satisfied: attrs>=17.3.0 in /usr/local/lib/python3.10/dist-packages (from aiohttp->openai==0.28) (24.2.0)\n",
            "Requirement already satisfied: frozenlist>=1.1.1 in /usr/local/lib/python3.10/dist-packages (from aiohttp->openai==0.28) (1.4.1)\n",
            "Requirement already satisfied: multidict<7.0,>=4.5 in /usr/local/lib/python3.10/dist-packages (from aiohttp->openai==0.28) (6.1.0)\n",
            "Requirement already satisfied: yarl<2.0,>=1.12.0 in /usr/local/lib/python3.10/dist-packages (from aiohttp->openai==0.28) (1.14.0)\n",
            "Requirement already satisfied: async-timeout<5.0,>=4.0 in /usr/local/lib/python3.10/dist-packages (from aiohttp->openai==0.28) (4.0.3)\n",
            "Requirement already satisfied: hyperframe<7,>=6.0 in /usr/local/lib/python3.10/dist-packages (from h2<5,>=3->httpx[http2]>=0.20.0->qdrant-client) (6.0.1)\n",
            "Requirement already satisfied: hpack<5,>=4.0 in /usr/local/lib/python3.10/dist-packages (from h2<5,>=3->httpx[http2]>=0.20.0->qdrant-client) (4.0.0)\n",
            "Requirement already satisfied: propcache>=0.2.0 in /usr/local/lib/python3.10/dist-packages (from yarl<2.0,>=1.12.0->aiohttp->openai==0.28) (0.2.0)\n",
            "Requirement already satisfied: exceptiongroup in /usr/local/lib/python3.10/dist-packages (from anyio->httpx>=0.20.0->httpx[http2]>=0.20.0->qdrant-client) (1.2.2)\n",
            "Drive already mounted at /content/drive; to attempt to forcibly remount, call drive.mount(\"/content/drive\", force_remount=True).\n"
          ]
        }
      ],
      "source": [
        "# Install required libraries\n",
        "!pip install openai==0.28 PyPDF2 qdrant-client python-dotenv\n",
        "\n",
        "from google.colab import drive\n",
        "import openai\n",
        "import PyPDF2\n",
        "import os\n",
        "import qdrant_client\n",
        "import numpy as np\n",
        "from dotenv import load_dotenv\n",
        "\n",
        "# Mount Google Drive to access and store files\n",
        "drive.mount('/content/drive')\n"
      ]
    },
    {
      "cell_type": "markdown",
      "source": [
        "##Step 2: Load the API Key from .env File Stored in Google Drive:"
      ],
      "metadata": {
        "id": "tPACNPVvbxGd"
      }
    },
    {
      "cell_type": "code",
      "source": [
        "# Specify the path to your .env file in Google Drive\n",
        "env_path = '/content/drive/MyDrive/Colab Notebooks/.env'\n",
        "\n",
        "# Load the API key from the .env file\n",
        "load_dotenv(env_path)\n",
        "openai.api_key = os.getenv(\"OPENAI_API_KEY\")\n"
      ],
      "metadata": {
        "id": "GIXgSLxNb35s"
      },
      "execution_count": 3,
      "outputs": []
    },
    {
      "cell_type": "markdown",
      "source": [
        "##Step 3: Upload file from google drive"
      ],
      "metadata": {
        "id": "dCE2fE5YinTH"
      }
    },
    {
      "cell_type": "code",
      "source": [
        "# Path to the PDF file in your Google Drive\n",
        "pdf_path = '/content/drive/MyDrive/2024_Advance_AI/Data/The_Sublime_Quran.pdf'\n",
        "\n",
        "# Function to read and chunk the PDF document\n",
        "def extract_pdf_text(file_path, chunk_size=2000):\n",
        "    with open(file_path, \"rb\") as file:\n",
        "        reader = PyPDF2.PdfReader(file)\n",
        "        text = \"\"\n",
        "        for page in reader.pages:\n",
        "            text += page.extract_text()\n",
        "\n",
        "    # Split text into chunks\n",
        "    text_chunks = [text[i:i+chunk_size] for i in range(0, len(text), chunk_size)]\n",
        "    return text_chunks\n",
        "\n",
        "# Extract and chunk the PDF content\n",
        "text_chunks = extract_pdf_text(pdf_path)\n"
      ],
      "metadata": {
        "id": "kz341yKjiuG9"
      },
      "execution_count": 4,
      "outputs": []
    },
    {
      "cell_type": "markdown",
      "source": [
        "##Step 4:Generate embeddings and store them in google drive"
      ],
      "metadata": {
        "id": "MFHnilL_jOTV"
      }
    },
    {
      "cell_type": "code",
      "source": [
        "# Install the latest version of the OpenAI package if needed\n",
        "#!pip install openai==0.28\n",
        "\n",
        "import openai\n",
        "import numpy as np\n",
        "\n",
        "# Function to generate embeddings for text chunks\n",
        "def generate_embeddings(text_chunks):\n",
        "    embeddings = []\n",
        "\n",
        "    # Iterate through text chunks and generate embeddings\n",
        "    for chunk in text_chunks:\n",
        "        response = openai.Embedding.create(  # Correct method name is still `Embedding.create`\n",
        "            model=\"text-embedding-ada-002\",\n",
        "            input=chunk\n",
        "        )\n",
        "        # Extract the embedding directly from the response object\n",
        "        embedding = response.data[0].embedding  # Access embedding using attribute syntax\n",
        "        embeddings.append(embedding)\n",
        "\n",
        "    return embeddings\n",
        "\n",
        "# Generate embeddings for the text chunks from the PDF\n",
        "embeddings = generate_embeddings(text_chunks)\n",
        "\n",
        "# Save embeddings in Google Drive\n",
        "np.save('/content/drive/MyDrive/2024_Advance_AI/Data/pdf_embeddings.npy', embeddings)\n"
      ],
      "metadata": {
        "id": "l7icirnil4cQ"
      },
      "execution_count": 8,
      "outputs": []
    },
    {
      "cell_type": "code",
      "source": [
        "np.save('/content/drive/MyDrive/2024_Advance_AI/Data/text_chunks.npy', text_chunks)"
      ],
      "metadata": {
        "id": "-xRpVbAtn_CW"
      },
      "execution_count": 9,
      "outputs": []
    },
    {
      "cell_type": "markdown",
      "source": [
        "##Step 5 Retirve Embeddings"
      ],
      "metadata": {
        "id": "nc_DvY2xnE_b"
      }
    },
    {
      "cell_type": "code",
      "source": [
        "# Load embeddings and text chunks from Google Drive\n",
        "embeddings = np.load('/content/drive/MyDrive/2024_Advance_AI/Data/pdf_embeddings.npy', allow_pickle=True)\n",
        "text_chunks = np.load('/content/drive/MyDrive/2024_Advance_AI/Data/text_chunks.npy', allow_pickle=True)\n"
      ],
      "metadata": {
        "id": "SSIP4pUunzV9"
      },
      "execution_count": 10,
      "outputs": []
    },
    {
      "cell_type": "markdown",
      "source": [
        "##Step 6 Qdrant Setup and Store Embeddings:"
      ],
      "metadata": {
        "id": "2y96LdBSow2g"
      }
    },
    {
      "source": [
        "from qdrant_client import QdrantClient, models\n",
        "from qdrant_client.models import PointStruct # Import PointStruct from qdrant_client.models\n",
        "\n",
        "# Set up Qdrant client and store embeddings in Google Drive\n",
        "qdrant_path = '/content/drive/MyDrive/2024_Advance_AI/qdrant2.db'\n",
        "qdrant = QdrantClient(path=qdrant_path)\n",
        "\n",
        "# Store embeddings in Qdrant\n",
        "def store_embeddings_in_qdrant(embeddings, text_chunks):\n",
        "    qdrant.recreate_collection(\n",
        "        collection_name=\"pdf_chunks\",\n",
        "        vectors_config=models.VectorParams(size=len(embeddings[0]), distance=models.Distance.COSINE) # Added vectors_config\n",
        "    )\n",
        "\n",
        "    for idx, (embedding, text) in enumerate(zip(embeddings, text_chunks)):\n",
        "        qdrant.upsert(\n",
        "            collection_name=\"pdf_chunks\",\n",
        "            points=[PointStruct(id=idx, vector=embedding.tolist(), payload={\"text\": text})] # Use PointStruct directly and convert embedding to list\n",
        "        )\n",
        "\n",
        "store_embeddings_in_qdrant(embeddings, text_chunks)"
      ],
      "cell_type": "code",
      "metadata": {
        "colab": {
          "base_uri": "https://localhost:8080/"
        },
        "id": "6oGOOiwFq6Mm",
        "outputId": "135e2422-e850-4f95-981e-81cf4f9335b2"
      },
      "execution_count": 15,
      "outputs": [
        {
          "output_type": "stream",
          "name": "stderr",
          "text": [
            "<ipython-input-15-ea34e214805c>:10: DeprecationWarning: `recreate_collection` method is deprecated and will be removed in the future. Use `collection_exists` to check collection existence and `create_collection` instead.\n",
            "  qdrant.recreate_collection(\n"
          ]
        }
      ]
    },
    {
      "cell_type": "markdown",
      "source": [
        "##Step 7:Retrieve Relevant Chunks and Answer Queries Using GPT-4:"
      ],
      "metadata": {
        "id": "H9M82fBcrRF1"
      }
    },
    {
      "cell_type": "code",
      "source": [
        "# Function to retrieve relevant chunks based on the user's query\n",
        "def retrieve_relevant_chunks(query, top_k=5):\n",
        "    query_embedding = openai.Embedding.create(\n",
        "        input=query,\n",
        "        model=\"text-embedding-ada-002\"\n",
        "    )['data'][0]['embedding']\n",
        "\n",
        "    search_result = qdrant.search(\n",
        "        collection_name=\"pdf_chunks\",\n",
        "        query_vector=query_embedding,\n",
        "        limit=top_k\n",
        "    )\n",
        "\n",
        "    return [result.payload['text'] for result in search_result]\n",
        "\n",
        "# Function to generate answers using GPT-4\n",
        "def generate_answer(retrieved_chunks, query):\n",
        "    context = \"\\n\\n\".join(retrieved_chunks)\n",
        "    response = openai.ChatCompletion.create(\n",
        "        model=\"gpt-4\",\n",
        "        messages=[\n",
        "            {\"role\": \"system\", \"content\": \"You are a helpful assistant.\"},\n",
        "            {\"role\": \"user\", \"content\": f\"Context:\\n\\n{context}\\n\\nQuestion: {query}\"}\n",
        "        ],\n",
        "        temperature=0.2,\n",
        "        max_tokens=500\n",
        "    )\n",
        "    return response['choices'][0]['message']['content']\n"
      ],
      "metadata": {
        "id": "iFhkuWvzrddA"
      },
      "execution_count": 16,
      "outputs": []
    },
    {
      "cell_type": "markdown",
      "source": [
        "##Step 8: Bot Interaction for Querying"
      ],
      "metadata": {
        "id": "WhoyStJMrwYV"
      }
    },
    {
      "cell_type": "code",
      "source": [
        "# Simple bot interaction to answer questions from the PDF\n",
        "def ask_bot():\n",
        "    while True:\n",
        "        user_input = input(\"Ask me a question (or type 'exit' to quit): \")\n",
        "        if user_input.lower() == 'exit':\n",
        "            break\n",
        "\n",
        "        retrieved_chunks = retrieve_relevant_chunks(user_input, top_k=5)\n",
        "        answer = generate_answer(retrieved_chunks, user_input)\n",
        "        print(f\"Answer: {answer}\\n\")\n",
        "\n",
        "# Run the bot\n",
        "ask_bot()\n"
      ],
      "metadata": {
        "colab": {
          "base_uri": "https://localhost:8080/"
        },
        "id": "wLX-JATar-em",
        "outputId": "13b1d575-7f51-4bef-e51e-952b36893078"
      },
      "execution_count": 19,
      "outputs": [
        {
          "name": "stdout",
          "output_type": "stream",
          "text": [
            "Ask me a question (or type 'exit' to quit): what does quran say about jihad?\n",
            "Answer: The term \"Jihad\" in the Quran is often misunderstood. It is derived from the Arabic root \"Jahada\" which means to strive or struggle. In the Quran, Jihad is used in different contexts, primarily referring to the struggle in the path of God. It can be a personal struggle to maintain faith, to improve one's moral character, or to achieve righteous goals. \n",
            "\n",
            "In a broader social context, Jihad can refer to the struggle for social justice, to fight against oppression, or to spread the message of Islam. It can also refer to a physical struggle or warfare in self-defense or against aggression, but only under strict conditions and as a last resort. It's important to note that the Quran strongly emphasizes that any form of aggression or violence must be proportional, and non-combatants should not be harmed.\n",
            "\n",
            "The Quran also highlights the importance of peace, mercy, and forgiveness. For instance, in Quran 2:190, it says: \"Fight in the way of Allah those who fight you but do not transgress. Indeed. Allah does not like transgressors.\" This verse emphasizes the defensive nature of Jihad in Islam.\n",
            "\n",
            "However, the interpretation and application of Jihad can vary among different Muslim communities and individuals, and it has been misused by some to justify acts of violence. It's crucial to understand that these acts are not representative of the teachings of the Quran or the beliefs of the majority of Muslims.\n",
            "\n",
            "Ask me a question (or type 'exit' to quit): what does it say about inheritance?\n",
            "Answer: The Quran has specific verses that detail the rules of inheritance. These are primarily found in Surah An-Nisa (The Women), verses 11, 12 and 176. \n",
            "\n",
            "In verse 4:11, it states that a son's share of the inheritance is to be twice that of a daughter's. It also provides guidance on how to distribute the inheritance if the deceased has children, parents, and a spouse.\n",
            "\n",
            "Verse 4:12 provides further instructions on inheritance distribution in the case of spouses and in situations where a man or woman leaves no direct heir (child or parent).\n",
            "\n",
            "Finally, verse 4:176 clarifies the rules of inheritance when a man or woman dies without a direct heir or a brother or sister.\n",
            "\n",
            "The rules of inheritance in Islam are complex and specific, and they are designed to ensure a fair distribution of a person's wealth after their death. It is recommended to consult with a knowledgeable Islamic scholar or legal expert to fully understand and correctly apply these rules.\n",
            "\n",
            "Ask me a question (or type 'exit' to quit): what does it say about jews?\n",
            "Answer: The text provided does not specifically mention Jews or provide any commentary about them. It primarily discusses interpretations of Islamic texts and principles, as well as the responsibilities and moral conduct of Muslims.\n",
            "\n",
            "Ask me a question (or type 'exit' to quit): what attributes are required from a muslim?\n",
            "Answer: The text suggests several attributes that are required from a Muslim:\n",
            "\n",
            "1. Consciousness of wrongdoings done in the name of God or Islam and the responsibility to speak out against them.\n",
            "2. Striving for the highest human perfection possible, known as the greater struggle (jih[d al-akbar), with the goal of moral healing.\n",
            "3. Giving up seeking justice for oneself while constantly struggling for justice for others.\n",
            "4. Not seeing oneself as superior to anyone else.\n",
            "5. Recognizing one's own vulnerabilities.\n",
            "6. Manifesting mercy, compassion, self-sacrifice, and forgiveness towards others.\n",
            "7. Following the example or Sunnah of the Prophet, which consists of his actions and sayings.\n",
            "8. Being open to understanding and accepting the Quran and Sunnah's view of men and women as complements of one another, not as superior-inferior.\n",
            "9. Engaging in the greater struggle of self-improvement, which is the beginning stage of the Sufi path.\n",
            "10. Respecting and understanding different sects within Islam, without necessarily representing any specific one.\n",
            "11. Upholding the central message of Islam: \"There is no god but God,\" Who alone is to be worshiped.\n",
            "\n",
            "Ask me a question (or type 'exit' to quit): what is mentioned in surah kahaf?\n",
            "Answer: Surah Al-Kahf, the 18th chapter of the Quran, contains several significant narratives and teachings. Here are some key points:\n",
            "\n",
            "1. The People of the Cave: This story is about a group of young believers who fled their disbelieving community and took refuge in a cave. They fell asleep and woke up thinking they had slept for a day or two, but in reality, they had slept for centuries. This story is a testament to God's power over time and life.\n",
            "\n",
            "2. The Man with Two Gardens: This parable tells the story of a wealthy man who was arrogant about his wealth and forgot to thank God for his blessings. He eventually lost everything, demonstrating the transient nature of worldly possessions.\n",
            "\n",
            "3. Moses and Khidr: This narrative recounts the journey of Prophet Moses and a wise man named Khidr. Khidr performs several actions that initially seem unjust or nonsensical, but he later explains the wisdom behind them. This story emphasizes the limitations of human knowledge and the importance of patience.\n",
            "\n",
            "4. Dhul-Qarnayn: The final story is about a righteous king named Dhul-Qarnayn who traveled to the ends of the world, helping people and spreading justice. He built a massive wall to protect a community from the destructive tribe of Gog and Magog.\n",
            "\n",
            "In addition to these narratives, Surah Al-Kahf also emphasizes monotheism, the afterlife, and the importance of patience and gratitude. It is often recited on Fridays due to a tradition (Hadith) of the Prophet Muhammad that suggests reciting it on Fridays to gain a light that will shine from one Friday to the next.\n",
            "\n",
            "Ask me a question (or type 'exit' to quit): list all verses mentioning women\n",
            "Answer: As an AI, I don't have the ability to list all the verses mentioning women from the Quran as it would be a very extensive list. However, I can provide a few examples:\n",
            "\n",
            "1. Surah An-Nisa (4:1): \"O mankind, fear your Lord, who created you from one soul and created from it its mate and dispersed from both of them many men and women. And fear Allah, through whom you ask one another, and the wombs. Indeed Allah is ever, over you, an Observer.\"\n",
            "\n",
            "2. Surah An-Nisa (4:19): \"O you who have believed, it is not lawful for you to inherit women by compulsion. And do not make difficulties for them in order to take [back] part of what you gave them unless they commit a clear immorality. And live with them in kindness. For if you dislike them - perhaps you dislike a thing and Allah makes therein much good.\"\n",
            "\n",
            "3. Surah Al-Baqarah (2:228): \"And due to the wives is similar to what is expected of them, according to what is reasonable. But the men have a degree over them [in responsibility and authority]. And Allah is Exalted in Might and Wise.\"\n",
            "\n",
            "4. Surah Al-Imran (3:195): \"And their Lord responded to them, 'Never will I allow to be lost the work of [any] worker among you, whether male or female; you are of one another. So those who emigrated or were evicted from their homes or were harmed in My cause or fought or were killed - I will surely remove from them their misdeeds, and I will surely admit them to gardens beneath which rivers flow as reward from Allah, and Allah has with Him the best reward.'\"\n",
            "\n",
            "These are just a few examples. The Quran mentions women in many other verses, discussing various aspects like their rights, responsibilities, and roles in society.\n",
            "\n",
            "Ask me a question (or type 'exit' to quit): what roles of women in society are mentioned?\n",
            "Answer: The text mentions several roles of women in society:\n",
            "\n",
            "1. As wives: The text discusses the interpretation of Quranic verses related to marriage, particularly those concerning the treatment of wives by their husbands. It also mentions the story of Job and his wife Rahmah, highlighting her role as a supportive and faithful wife.\n",
            "\n",
            "2. As scholars and interpreters: The author herself is a Muslim woman who has been schooled in Sufism and has lived in various Muslim communities. She has taken on the role of a scholar and interpreter of the Quran, challenging traditional interpretations and advocating for a more inclusive understanding.\n",
            "\n",
            "3. As victims of domestic violence: The text mentions women who end up in shelters for battered women, highlighting the issue of domestic violence within the context of Quranic interpretation.\n",
            "\n",
            "4. As advocates for change: The text mentions women who work in shelters for battered women and those who gathered at the WISE (Women’s Islamic Initiative in Spirituality and Equity) Conference to discuss the possibility of forming a Women’s Islamic Council. These women are portrayed as advocates for change within their communities.\n",
            "\n",
            "5. As spiritual beings: The author expresses a spiritual connection with all women, particularly those who have suffered from physical abuse. This highlights the role of women as spiritual beings within the Islamic faith.\n",
            "\n",
            "Ask me a question (or type 'exit' to quit): exit\n"
          ]
        }
      ]
    }
  ]
}